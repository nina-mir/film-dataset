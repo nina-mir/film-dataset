{
  "nbformat": 4,
  "nbformat_minor": 0,
  "metadata": {
    "colab": {
      "provenance": [],
      "mount_file_id": "17wQlSU7ZF4yf9Dh2jt87z5zUrjqImq8g",
      "authorship_tag": "ABX9TyPxSbk4yaurGjkRcmb9qpHE",
      "include_colab_link": true
    },
    "kernelspec": {
      "name": "python3",
      "display_name": "Python 3"
    },
    "language_info": {
      "name": "python"
    }
  },
  "cells": [
    {
      "cell_type": "markdown",
      "metadata": {
        "id": "view-in-github",
        "colab_type": "text"
      },
      "source": [
        "<a href=\"https://colab.research.google.com/github/nina-mir/scale-hackathon-april-20/blob/main/data/scale_april_17_data_cleaning_filmed_sf.ipynb\" target=\"_parent\"><img src=\"https://colab.research.google.com/assets/colab-badge.svg\" alt=\"Open In Colab\"/></a>"
      ]
    },
    {
      "cell_type": "markdown",
      "source": [
        "\n",
        "mount the drive\n"
      ],
      "metadata": {
        "id": "Xi0XYORVSkkt"
      }
    },
    {
      "cell_type": "code",
      "source": [
        "from google.colab import drive\n",
        "drive.mount('/content/drive')"
      ],
      "metadata": {
        "colab": {
          "base_uri": "https://localhost:8080/"
        },
        "id": "K8thWIe7R284",
        "outputId": "bcc60817-aaa6-411b-9416-6fadc451cd2c"
      },
      "execution_count": null,
      "outputs": [
        {
          "output_type": "stream",
          "name": "stdout",
          "text": [
            "Mounted at /content/drive\n"
          ]
        }
      ]
    },
    {
      "cell_type": "code",
      "execution_count": null,
      "metadata": {
        "id": "VWef7Jr-0dp7"
      },
      "outputs": [],
      "source": [
        "\n",
        "# importing pandas as pd\n",
        "import pandas as pd\n",
        "# read_csv function which is used to read the required CSV file\n",
        "data = pd.read_csv('/content/drive/MyDrive/Colab Notebooks/SF Film Project/scale-hackathon/raw_Film_Locations_in_San_Francisco_20240417.csv')"
      ]
    },
    {
      "cell_type": "code",
      "source": [
        "print(\"there are {} columns total.\\n\\n the columns are:\\n\\n {} \".format(len(data.columns.values), data.columns.values))"
      ],
      "metadata": {
        "id": "4NG5QR-RDzy_"
      },
      "execution_count": null,
      "outputs": []
    },
    {
      "cell_type": "code",
      "source": [
        "# data.describe(include='all')\n",
        "print(F'There are {data.shape[0]} rows and {data.shape[1]} columns in this dataset!')\n",
        "print(F'The data types of cols are: \\n\\n {data.dtypes}')\n",
        "# data.shape"
      ],
      "metadata": {
        "id": "xs6b0-DrILWm"
      },
      "execution_count": null,
      "outputs": []
    },
    {
      "cell_type": "markdown",
      "source": [
        "There are 2084 rows and 14 columns in this dataset!\n",
        "The data types of cols are:\n",
        "\n",
        "```\n",
        "Title                            object\n",
        "Release Year                      int64\n",
        "Locations                        object\n",
        "Fun Facts                        object\n",
        "Production Company               object\n",
        "Distributor                      object\n",
        "Director                         object\n",
        "Writer                           object\n",
        "Actor 1                          object\n",
        "Actor 2                          object\n",
        "Actor 3                          object\n",
        "SF Find Neighborhoods           float64\n",
        "Analysis Neighborhoods          float64\n",
        "Current Supervisor Districts    float64\n",
        "dtype: object\n",
        "```"
      ],
      "metadata": {
        "id": "DWnvKNmpOKvH"
      }
    },
    {
      "cell_type": "code",
      "source": [
        "data[data[\"Actor 1\"]=='Charles Chaplin']"
      ],
      "metadata": {
        "colab": {
          "base_uri": "https://localhost:8080/",
          "height": 288
        },
        "id": "dVEm9LEjWdDG",
        "outputId": "11eda4a8-324f-4535-dac1-dc5e440b4582"
      },
      "execution_count": null,
      "outputs": [
        {
          "output_type": "execute_result",
          "data": {
            "text/plain": [
              "                   Title  Release Year                Locations  \\\n",
              "927   A Jitney Elopement          1915  20th and Folsom Streets   \n",
              "1351  A Jitney Elopement          1915         Golden Gate Park   \n",
              "\n",
              "                                              Fun Facts  \\\n",
              "927                                                 NaN   \n",
              "1351  During San Francisco's Gold Rush era, the Park...   \n",
              "\n",
              "                          Production Company           Distributor  \\\n",
              "927   The Essanay Film Manufacturing Company  General Film Company   \n",
              "1351  The Essanay Film Manufacturing Company  General Film Company   \n",
              "\n",
              "             Director           Writer          Actor 1         Actor 2  \\\n",
              "927   Charles Chaplin  Charles Chaplin  Charles Chaplin  Edna Purviance   \n",
              "1351  Charles Chaplin  Charles Chaplin  Charles Chaplin  Edna Purviance   \n",
              "\n",
              "     Actor 3  SF Find Neighborhoods  Analysis Neighborhoods  \\\n",
              "927      NaN                   53.0                    20.0   \n",
              "1351     NaN                    9.0                    12.0   \n",
              "\n",
              "      Current Supervisor Districts  \n",
              "927                            2.0  \n",
              "1351                           4.0  "
            ],
            "text/html": [
              "\n",
              "  <div id=\"df-885e3da1-2868-4e1b-bdcb-de0464f36e77\" class=\"colab-df-container\">\n",
              "    <div>\n",
              "<style scoped>\n",
              "    .dataframe tbody tr th:only-of-type {\n",
              "        vertical-align: middle;\n",
              "    }\n",
              "\n",
              "    .dataframe tbody tr th {\n",
              "        vertical-align: top;\n",
              "    }\n",
              "\n",
              "    .dataframe thead th {\n",
              "        text-align: right;\n",
              "    }\n",
              "</style>\n",
              "<table border=\"1\" class=\"dataframe\">\n",
              "  <thead>\n",
              "    <tr style=\"text-align: right;\">\n",
              "      <th></th>\n",
              "      <th>Title</th>\n",
              "      <th>Release Year</th>\n",
              "      <th>Locations</th>\n",
              "      <th>Fun Facts</th>\n",
              "      <th>Production Company</th>\n",
              "      <th>Distributor</th>\n",
              "      <th>Director</th>\n",
              "      <th>Writer</th>\n",
              "      <th>Actor 1</th>\n",
              "      <th>Actor 2</th>\n",
              "      <th>Actor 3</th>\n",
              "      <th>SF Find Neighborhoods</th>\n",
              "      <th>Analysis Neighborhoods</th>\n",
              "      <th>Current Supervisor Districts</th>\n",
              "    </tr>\n",
              "  </thead>\n",
              "  <tbody>\n",
              "    <tr>\n",
              "      <th>927</th>\n",
              "      <td>A Jitney Elopement</td>\n",
              "      <td>1915</td>\n",
              "      <td>20th and Folsom Streets</td>\n",
              "      <td>NaN</td>\n",
              "      <td>The Essanay Film Manufacturing Company</td>\n",
              "      <td>General Film Company</td>\n",
              "      <td>Charles Chaplin</td>\n",
              "      <td>Charles Chaplin</td>\n",
              "      <td>Charles Chaplin</td>\n",
              "      <td>Edna Purviance</td>\n",
              "      <td>NaN</td>\n",
              "      <td>53.0</td>\n",
              "      <td>20.0</td>\n",
              "      <td>2.0</td>\n",
              "    </tr>\n",
              "    <tr>\n",
              "      <th>1351</th>\n",
              "      <td>A Jitney Elopement</td>\n",
              "      <td>1915</td>\n",
              "      <td>Golden Gate Park</td>\n",
              "      <td>During San Francisco's Gold Rush era, the Park...</td>\n",
              "      <td>The Essanay Film Manufacturing Company</td>\n",
              "      <td>General Film Company</td>\n",
              "      <td>Charles Chaplin</td>\n",
              "      <td>Charles Chaplin</td>\n",
              "      <td>Charles Chaplin</td>\n",
              "      <td>Edna Purviance</td>\n",
              "      <td>NaN</td>\n",
              "      <td>9.0</td>\n",
              "      <td>12.0</td>\n",
              "      <td>4.0</td>\n",
              "    </tr>\n",
              "  </tbody>\n",
              "</table>\n",
              "</div>\n",
              "    <div class=\"colab-df-buttons\">\n",
              "\n",
              "  <div class=\"colab-df-container\">\n",
              "    <button class=\"colab-df-convert\" onclick=\"convertToInteractive('df-885e3da1-2868-4e1b-bdcb-de0464f36e77')\"\n",
              "            title=\"Convert this dataframe to an interactive table.\"\n",
              "            style=\"display:none;\">\n",
              "\n",
              "  <svg xmlns=\"http://www.w3.org/2000/svg\" height=\"24px\" viewBox=\"0 -960 960 960\">\n",
              "    <path d=\"M120-120v-720h720v720H120Zm60-500h600v-160H180v160Zm220 220h160v-160H400v160Zm0 220h160v-160H400v160ZM180-400h160v-160H180v160Zm440 0h160v-160H620v160ZM180-180h160v-160H180v160Zm440 0h160v-160H620v160Z\"/>\n",
              "  </svg>\n",
              "    </button>\n",
              "\n",
              "  <style>\n",
              "    .colab-df-container {\n",
              "      display:flex;\n",
              "      gap: 12px;\n",
              "    }\n",
              "\n",
              "    .colab-df-convert {\n",
              "      background-color: #E8F0FE;\n",
              "      border: none;\n",
              "      border-radius: 50%;\n",
              "      cursor: pointer;\n",
              "      display: none;\n",
              "      fill: #1967D2;\n",
              "      height: 32px;\n",
              "      padding: 0 0 0 0;\n",
              "      width: 32px;\n",
              "    }\n",
              "\n",
              "    .colab-df-convert:hover {\n",
              "      background-color: #E2EBFA;\n",
              "      box-shadow: 0px 1px 2px rgba(60, 64, 67, 0.3), 0px 1px 3px 1px rgba(60, 64, 67, 0.15);\n",
              "      fill: #174EA6;\n",
              "    }\n",
              "\n",
              "    .colab-df-buttons div {\n",
              "      margin-bottom: 4px;\n",
              "    }\n",
              "\n",
              "    [theme=dark] .colab-df-convert {\n",
              "      background-color: #3B4455;\n",
              "      fill: #D2E3FC;\n",
              "    }\n",
              "\n",
              "    [theme=dark] .colab-df-convert:hover {\n",
              "      background-color: #434B5C;\n",
              "      box-shadow: 0px 1px 3px 1px rgba(0, 0, 0, 0.15);\n",
              "      filter: drop-shadow(0px 1px 2px rgba(0, 0, 0, 0.3));\n",
              "      fill: #FFFFFF;\n",
              "    }\n",
              "  </style>\n",
              "\n",
              "    <script>\n",
              "      const buttonEl =\n",
              "        document.querySelector('#df-885e3da1-2868-4e1b-bdcb-de0464f36e77 button.colab-df-convert');\n",
              "      buttonEl.style.display =\n",
              "        google.colab.kernel.accessAllowed ? 'block' : 'none';\n",
              "\n",
              "      async function convertToInteractive(key) {\n",
              "        const element = document.querySelector('#df-885e3da1-2868-4e1b-bdcb-de0464f36e77');\n",
              "        const dataTable =\n",
              "          await google.colab.kernel.invokeFunction('convertToInteractive',\n",
              "                                                    [key], {});\n",
              "        if (!dataTable) return;\n",
              "\n",
              "        const docLinkHtml = 'Like what you see? Visit the ' +\n",
              "          '<a target=\"_blank\" href=https://colab.research.google.com/notebooks/data_table.ipynb>data table notebook</a>'\n",
              "          + ' to learn more about interactive tables.';\n",
              "        element.innerHTML = '';\n",
              "        dataTable['output_type'] = 'display_data';\n",
              "        await google.colab.output.renderOutput(dataTable, element);\n",
              "        const docLink = document.createElement('div');\n",
              "        docLink.innerHTML = docLinkHtml;\n",
              "        element.appendChild(docLink);\n",
              "      }\n",
              "    </script>\n",
              "  </div>\n",
              "\n",
              "\n",
              "<div id=\"df-648b8a24-8e98-48bb-985f-9f9acd2a1b19\">\n",
              "  <button class=\"colab-df-quickchart\" onclick=\"quickchart('df-648b8a24-8e98-48bb-985f-9f9acd2a1b19')\"\n",
              "            title=\"Suggest charts\"\n",
              "            style=\"display:none;\">\n",
              "\n",
              "<svg xmlns=\"http://www.w3.org/2000/svg\" height=\"24px\"viewBox=\"0 0 24 24\"\n",
              "     width=\"24px\">\n",
              "    <g>\n",
              "        <path d=\"M19 3H5c-1.1 0-2 .9-2 2v14c0 1.1.9 2 2 2h14c1.1 0 2-.9 2-2V5c0-1.1-.9-2-2-2zM9 17H7v-7h2v7zm4 0h-2V7h2v10zm4 0h-2v-4h2v4z\"/>\n",
              "    </g>\n",
              "</svg>\n",
              "  </button>\n",
              "\n",
              "<style>\n",
              "  .colab-df-quickchart {\n",
              "      --bg-color: #E8F0FE;\n",
              "      --fill-color: #1967D2;\n",
              "      --hover-bg-color: #E2EBFA;\n",
              "      --hover-fill-color: #174EA6;\n",
              "      --disabled-fill-color: #AAA;\n",
              "      --disabled-bg-color: #DDD;\n",
              "  }\n",
              "\n",
              "  [theme=dark] .colab-df-quickchart {\n",
              "      --bg-color: #3B4455;\n",
              "      --fill-color: #D2E3FC;\n",
              "      --hover-bg-color: #434B5C;\n",
              "      --hover-fill-color: #FFFFFF;\n",
              "      --disabled-bg-color: #3B4455;\n",
              "      --disabled-fill-color: #666;\n",
              "  }\n",
              "\n",
              "  .colab-df-quickchart {\n",
              "    background-color: var(--bg-color);\n",
              "    border: none;\n",
              "    border-radius: 50%;\n",
              "    cursor: pointer;\n",
              "    display: none;\n",
              "    fill: var(--fill-color);\n",
              "    height: 32px;\n",
              "    padding: 0;\n",
              "    width: 32px;\n",
              "  }\n",
              "\n",
              "  .colab-df-quickchart:hover {\n",
              "    background-color: var(--hover-bg-color);\n",
              "    box-shadow: 0 1px 2px rgba(60, 64, 67, 0.3), 0 1px 3px 1px rgba(60, 64, 67, 0.15);\n",
              "    fill: var(--button-hover-fill-color);\n",
              "  }\n",
              "\n",
              "  .colab-df-quickchart-complete:disabled,\n",
              "  .colab-df-quickchart-complete:disabled:hover {\n",
              "    background-color: var(--disabled-bg-color);\n",
              "    fill: var(--disabled-fill-color);\n",
              "    box-shadow: none;\n",
              "  }\n",
              "\n",
              "  .colab-df-spinner {\n",
              "    border: 2px solid var(--fill-color);\n",
              "    border-color: transparent;\n",
              "    border-bottom-color: var(--fill-color);\n",
              "    animation:\n",
              "      spin 1s steps(1) infinite;\n",
              "  }\n",
              "\n",
              "  @keyframes spin {\n",
              "    0% {\n",
              "      border-color: transparent;\n",
              "      border-bottom-color: var(--fill-color);\n",
              "      border-left-color: var(--fill-color);\n",
              "    }\n",
              "    20% {\n",
              "      border-color: transparent;\n",
              "      border-left-color: var(--fill-color);\n",
              "      border-top-color: var(--fill-color);\n",
              "    }\n",
              "    30% {\n",
              "      border-color: transparent;\n",
              "      border-left-color: var(--fill-color);\n",
              "      border-top-color: var(--fill-color);\n",
              "      border-right-color: var(--fill-color);\n",
              "    }\n",
              "    40% {\n",
              "      border-color: transparent;\n",
              "      border-right-color: var(--fill-color);\n",
              "      border-top-color: var(--fill-color);\n",
              "    }\n",
              "    60% {\n",
              "      border-color: transparent;\n",
              "      border-right-color: var(--fill-color);\n",
              "    }\n",
              "    80% {\n",
              "      border-color: transparent;\n",
              "      border-right-color: var(--fill-color);\n",
              "      border-bottom-color: var(--fill-color);\n",
              "    }\n",
              "    90% {\n",
              "      border-color: transparent;\n",
              "      border-bottom-color: var(--fill-color);\n",
              "    }\n",
              "  }\n",
              "</style>\n",
              "\n",
              "  <script>\n",
              "    async function quickchart(key) {\n",
              "      const quickchartButtonEl =\n",
              "        document.querySelector('#' + key + ' button');\n",
              "      quickchartButtonEl.disabled = true;  // To prevent multiple clicks.\n",
              "      quickchartButtonEl.classList.add('colab-df-spinner');\n",
              "      try {\n",
              "        const charts = await google.colab.kernel.invokeFunction(\n",
              "            'suggestCharts', [key], {});\n",
              "      } catch (error) {\n",
              "        console.error('Error during call to suggestCharts:', error);\n",
              "      }\n",
              "      quickchartButtonEl.classList.remove('colab-df-spinner');\n",
              "      quickchartButtonEl.classList.add('colab-df-quickchart-complete');\n",
              "    }\n",
              "    (() => {\n",
              "      let quickchartButtonEl =\n",
              "        document.querySelector('#df-648b8a24-8e98-48bb-985f-9f9acd2a1b19 button');\n",
              "      quickchartButtonEl.style.display =\n",
              "        google.colab.kernel.accessAllowed ? 'block' : 'none';\n",
              "    })();\n",
              "  </script>\n",
              "</div>\n",
              "\n",
              "    </div>\n",
              "  </div>\n"
            ],
            "application/vnd.google.colaboratory.intrinsic+json": {
              "type": "dataframe",
              "repr_error": "0"
            }
          },
          "metadata": {},
          "execution_count": 23
        }
      ]
    },
    {
      "cell_type": "code",
      "source": [
        "unique = data.describe(include='all').loc['unique']\n",
        "print(F\"The number of unique values in each column are: \\n {unique}\")"
      ],
      "metadata": {
        "colab": {
          "base_uri": "https://localhost:8080/"
        },
        "id": "8i9ICoDhF9CI",
        "outputId": "9993e2ad-75a4-4062-cac0-764774d88c6a"
      },
      "execution_count": null,
      "outputs": [
        {
          "output_type": "stream",
          "name": "stdout",
          "text": [
            "The number of unique values in each column are: \n",
            " Title                            336\n",
            "Release Year                     NaN\n",
            "Locations                       1634\n",
            "Fun Facts                        187\n",
            "Production Company               208\n",
            "Distributor                      167\n",
            "Director                         276\n",
            "Writer                           294\n",
            "Actor 1                          255\n",
            "Actor 2                          263\n",
            "Actor 3                          156\n",
            "SF Find Neighborhoods            NaN\n",
            "Analysis Neighborhoods           NaN\n",
            "Current Supervisor Districts     NaN\n",
            "Name: unique, dtype: object\n"
          ]
        }
      ]
    },
    {
      "cell_type": "code",
      "source": [
        "year_list = data[\"Release Year\"].unique()\n",
        "year_list_int = [int(i) for i in year_list]\n",
        "year_list_int.sort()\n",
        "print(F'the oldest permit was issued in {min(year_list_int)} and the latest permit was issued in {max(year_list_int)}')"
      ],
      "metadata": {
        "colab": {
          "base_uri": "https://localhost:8080/"
        },
        "id": "HCY-6z8kc-Wf",
        "outputId": "6b0352ea-56d8-4bce-879f-b4676ec24ea9"
      },
      "execution_count": null,
      "outputs": [
        {
          "output_type": "stream",
          "name": "stdout",
          "text": [
            "the oldest permit was issued in 1915 and the latest permit was issued in 2023\n"
          ]
        }
      ]
    },
    {
      "cell_type": "markdown",
      "source": [
        "the oldest permit was issued in 1915 and the latest permit was issued in 2023\n",
        "\n"
      ],
      "metadata": {
        "id": "M7oF6daxG8hH"
      }
    },
    {
      "cell_type": "markdown",
      "source": [
        "The total number of unique titles [films/tv series] in this dataset is 336.\n"
      ],
      "metadata": {
        "id": "SGO-60CvKsUF"
      }
    },
    {
      "cell_type": "code",
      "source": [
        "# print(data.info())\n",
        "# with pd.option_context('float_format', '{:.0f}'.format): print(data.describe())\n",
        "# print(data.describe())"
      ],
      "metadata": {
        "id": "d5waEjM4rkik"
      },
      "execution_count": null,
      "outputs": []
    },
    {
      "cell_type": "code",
      "source": [
        "target_columns = ['Title', 'Release Year', 'Locations', 'Fun Facts','Director', 'Writer', 'Actor 1', 'Actor 2', 'Actor 3']\n",
        "# print('data.describe():   ', data[['Title', 'Release Year','Locations', 'Fun Facts','Director', 'Writer', 'Actor 1', 'Actor 2', 'Actor 3']].describe().values)\n",
        "\n",
        "# print('data.describe():   ', data[['Locations', 'Fun Facts','Director', 'Writer', 'Actor 1', 'Actor 2', 'Actor 3']].describe())\n",
        "\n",
        "data.describe(include='all').loc['Title']\n",
        "\n",
        "\n",
        "# describe_list = data[['Locations', 'Fun Facts','Director', 'Writer', 'Actor 1', 'Actor 2', 'Actor 3']].describe().values\n",
        "# type(data[['Locations', 'Fun Facts','Director', 'Writer', 'Actor 1', 'Actor 2', 'Actor 3']].describe().values.tolist())\n",
        "# print(describe_list)"
      ],
      "metadata": {
        "id": "NVKyuhj4b9sI"
      },
      "execution_count": null,
      "outputs": []
    },
    {
      "cell_type": "code",
      "source": [
        "# print('data.info()', data.info())\n",
        "# data.shape\n",
        "# data.size\n",
        "data.info(verbose=True)"
      ],
      "metadata": {
        "colab": {
          "base_uri": "https://localhost:8080/"
        },
        "id": "6l-JHusDS3xv",
        "outputId": "5f695f5f-75d3-4b41-dcf1-8a468fbe0a61"
      },
      "execution_count": null,
      "outputs": [
        {
          "output_type": "stream",
          "name": "stdout",
          "text": [
            "<class 'pandas.core.frame.DataFrame'>\n",
            "RangeIndex: 2084 entries, 0 to 2083\n",
            "Data columns (total 14 columns):\n",
            " #   Column                        Non-Null Count  Dtype  \n",
            "---  ------                        --------------  -----  \n",
            " 0   Title                         2084 non-null   object \n",
            " 1   Release Year                  2084 non-null   int64  \n",
            " 2   Locations                     2030 non-null   object \n",
            " 3   Fun Facts                     464 non-null    object \n",
            " 4   Production Company            2082 non-null   object \n",
            " 5   Distributor                   1945 non-null   object \n",
            " 6   Director                      2079 non-null   object \n",
            " 7   Writer                        2074 non-null   object \n",
            " 8   Actor 1                       2080 non-null   object \n",
            " 9   Actor 2                       1991 non-null   object \n",
            " 10  Actor 3                       1612 non-null   object \n",
            " 11  SF Find Neighborhoods         1963 non-null   float64\n",
            " 12  Analysis Neighborhoods        1963 non-null   float64\n",
            " 13  Current Supervisor Districts  1963 non-null   float64\n",
            "dtypes: float64(3), int64(1), object(10)\n",
            "memory usage: 228.1+ KB\n"
          ]
        }
      ]
    },
    {
      "cell_type": "markdown",
      "source": [
        "Let's abridge this data set by getting rid of the following columns at this moment:\n",
        "```\n",
        "'SF Find Neighborhoods',\n",
        "'Analysis Neighborhoods',\n",
        "'Current Supervisor Districts',\n",
        "'Production Company',\n",
        "'Distributor',\n",
        "'Actor 2',\n",
        "'Actor 3',\n",
        "'Writer',\n",
        "'Fun Facts'\n",
        "```\n",
        "\n",
        "The resulting ```abridged_data``` will be of only 5 columns!"
      ],
      "metadata": {
        "id": "6L_u3nZqWk-e"
      }
    },
    {
      "cell_type": "code",
      "source": [
        "abridged_data = data.drop(columns=['SF Find Neighborhoods','Analysis Neighborhoods',\n",
        "                                   'Current Supervisor Districts', 'Production Company',\n",
        "                                   'Distributor', 'Actor 2', 'Actor 3', 'Writer', 'Fun Facts'])"
      ],
      "metadata": {
        "id": "Uaq_MLOi1PCd"
      },
      "execution_count": null,
      "outputs": []
    },
    {
      "cell_type": "code",
      "source": [
        "abridged_data.info(verbose=\"true\")"
      ],
      "metadata": {
        "colab": {
          "base_uri": "https://localhost:8080/"
        },
        "id": "zk6P5toCZgqs",
        "outputId": "ba1ca7c5-504b-45e7-aeb0-152791e8308a"
      },
      "execution_count": null,
      "outputs": [
        {
          "output_type": "stream",
          "name": "stdout",
          "text": [
            "<class 'pandas.core.frame.DataFrame'>\n",
            "RangeIndex: 2084 entries, 0 to 2083\n",
            "Data columns (total 5 columns):\n",
            " #   Column        Non-Null Count  Dtype \n",
            "---  ------        --------------  ----- \n",
            " 0   Title         2084 non-null   object\n",
            " 1   Release Year  2084 non-null   int64 \n",
            " 2   Locations     2030 non-null   object\n",
            " 3   Director      2079 non-null   object\n",
            " 4   Actor 1       2080 non-null   object\n",
            "dtypes: int64(1), object(4)\n",
            "memory usage: 81.5+ KB\n"
          ]
        }
      ]
    },
    {
      "cell_type": "markdown",
      "source": [
        "let's drop any rows that has any mepty values"
      ],
      "metadata": {
        "id": "_sb1pMNzaXsn"
      }
    },
    {
      "cell_type": "markdown",
      "source": [
        "Get rid of NaN values by replacing them with empty space\n"
      ],
      "metadata": {
        "id": "BW707-w44hsb"
      }
    },
    {
      "cell_type": "code",
      "source": [
        "abridged_data.dropna(axis=0, inplace=True)\n",
        "abridged_data.info(verbose=True)"
      ],
      "metadata": {
        "colab": {
          "base_uri": "https://localhost:8080/"
        },
        "id": "5pdSZchLatfp",
        "outputId": "6360523b-1df9-4dc5-fd41-7330b20548ea"
      },
      "execution_count": null,
      "outputs": [
        {
          "output_type": "stream",
          "name": "stdout",
          "text": [
            "<class 'pandas.core.frame.DataFrame'>\n",
            "Index: 2021 entries, 0 to 2083\n",
            "Data columns (total 5 columns):\n",
            " #   Column        Non-Null Count  Dtype \n",
            "---  ------        --------------  ----- \n",
            " 0   Title         2021 non-null   object\n",
            " 1   Release Year  2021 non-null   int64 \n",
            " 2   Locations     2021 non-null   object\n",
            " 3   Director      2021 non-null   object\n",
            " 4   Actor 1       2021 non-null   object\n",
            "dtypes: int64(1), object(4)\n",
            "memory usage: 94.7+ KB\n"
          ]
        }
      ]
    },
    {
      "cell_type": "code",
      "source": [
        "abridged_data.isna().sum()"
      ],
      "metadata": {
        "colab": {
          "base_uri": "https://localhost:8080/"
        },
        "id": "9t4WdDPGc1p7",
        "outputId": "816d665e-48f9-4f71-8c7c-14d74b3901fb"
      },
      "execution_count": null,
      "outputs": [
        {
          "output_type": "execute_result",
          "data": {
            "text/plain": [
              "Title           0\n",
              "Release Year    0\n",
              "Locations       0\n",
              "Director        0\n",
              "Actor 1         0\n",
              "dtype: int64"
            ]
          },
          "metadata": {},
          "execution_count": 32
        }
      ]
    },
    {
      "cell_type": "code",
      "source": [
        "abridged_data.sort_values(by=[\"Release Year\"], inplace=True)"
      ],
      "metadata": {
        "id": "e7nGsxSEdAih"
      },
      "execution_count": null,
      "outputs": []
    },
    {
      "cell_type": "code",
      "source": [
        "abridged_data.head()"
      ],
      "metadata": {
        "colab": {
          "base_uri": "https://localhost:8080/",
          "height": 206
        },
        "id": "yI-XPp-AdfIO",
        "outputId": "7416a74a-1af2-4783-aa5b-b5e4937ef840"
      },
      "execution_count": null,
      "outputs": [
        {
          "output_type": "execute_result",
          "data": {
            "text/plain": [
              "                   Title  Release Year                              Locations  \\\n",
              "927   A Jitney Elopement          1915                20th and Folsom Streets   \n",
              "1351  A Jitney Elopement          1915                       Golden Gate Park   \n",
              "1464               Greed          1924                 Hayes Street at Laguna   \n",
              "266                Greed          1924                Bush and Sutter Streets   \n",
              "751                Greed          1924  Cliff House (1090 Point Lobos Avenue)   \n",
              "\n",
              "               Director          Actor 1  \n",
              "927     Charles Chaplin  Charles Chaplin  \n",
              "1351    Charles Chaplin  Charles Chaplin  \n",
              "1464  Eric von Stroheim       Zasu Pitts  \n",
              "266   Eric von Stroheim       Zasu Pitts  \n",
              "751   Eric von Stroheim       Zasu Pitts  "
            ],
            "text/html": [
              "\n",
              "  <div id=\"df-e2e24bc4-4265-4538-a434-cb81cf698210\" class=\"colab-df-container\">\n",
              "    <div>\n",
              "<style scoped>\n",
              "    .dataframe tbody tr th:only-of-type {\n",
              "        vertical-align: middle;\n",
              "    }\n",
              "\n",
              "    .dataframe tbody tr th {\n",
              "        vertical-align: top;\n",
              "    }\n",
              "\n",
              "    .dataframe thead th {\n",
              "        text-align: right;\n",
              "    }\n",
              "</style>\n",
              "<table border=\"1\" class=\"dataframe\">\n",
              "  <thead>\n",
              "    <tr style=\"text-align: right;\">\n",
              "      <th></th>\n",
              "      <th>Title</th>\n",
              "      <th>Release Year</th>\n",
              "      <th>Locations</th>\n",
              "      <th>Director</th>\n",
              "      <th>Actor 1</th>\n",
              "    </tr>\n",
              "  </thead>\n",
              "  <tbody>\n",
              "    <tr>\n",
              "      <th>927</th>\n",
              "      <td>A Jitney Elopement</td>\n",
              "      <td>1915</td>\n",
              "      <td>20th and Folsom Streets</td>\n",
              "      <td>Charles Chaplin</td>\n",
              "      <td>Charles Chaplin</td>\n",
              "    </tr>\n",
              "    <tr>\n",
              "      <th>1351</th>\n",
              "      <td>A Jitney Elopement</td>\n",
              "      <td>1915</td>\n",
              "      <td>Golden Gate Park</td>\n",
              "      <td>Charles Chaplin</td>\n",
              "      <td>Charles Chaplin</td>\n",
              "    </tr>\n",
              "    <tr>\n",
              "      <th>1464</th>\n",
              "      <td>Greed</td>\n",
              "      <td>1924</td>\n",
              "      <td>Hayes Street at Laguna</td>\n",
              "      <td>Eric von Stroheim</td>\n",
              "      <td>Zasu Pitts</td>\n",
              "    </tr>\n",
              "    <tr>\n",
              "      <th>266</th>\n",
              "      <td>Greed</td>\n",
              "      <td>1924</td>\n",
              "      <td>Bush and Sutter Streets</td>\n",
              "      <td>Eric von Stroheim</td>\n",
              "      <td>Zasu Pitts</td>\n",
              "    </tr>\n",
              "    <tr>\n",
              "      <th>751</th>\n",
              "      <td>Greed</td>\n",
              "      <td>1924</td>\n",
              "      <td>Cliff House (1090 Point Lobos Avenue)</td>\n",
              "      <td>Eric von Stroheim</td>\n",
              "      <td>Zasu Pitts</td>\n",
              "    </tr>\n",
              "  </tbody>\n",
              "</table>\n",
              "</div>\n",
              "    <div class=\"colab-df-buttons\">\n",
              "\n",
              "  <div class=\"colab-df-container\">\n",
              "    <button class=\"colab-df-convert\" onclick=\"convertToInteractive('df-e2e24bc4-4265-4538-a434-cb81cf698210')\"\n",
              "            title=\"Convert this dataframe to an interactive table.\"\n",
              "            style=\"display:none;\">\n",
              "\n",
              "  <svg xmlns=\"http://www.w3.org/2000/svg\" height=\"24px\" viewBox=\"0 -960 960 960\">\n",
              "    <path d=\"M120-120v-720h720v720H120Zm60-500h600v-160H180v160Zm220 220h160v-160H400v160Zm0 220h160v-160H400v160ZM180-400h160v-160H180v160Zm440 0h160v-160H620v160ZM180-180h160v-160H180v160Zm440 0h160v-160H620v160Z\"/>\n",
              "  </svg>\n",
              "    </button>\n",
              "\n",
              "  <style>\n",
              "    .colab-df-container {\n",
              "      display:flex;\n",
              "      gap: 12px;\n",
              "    }\n",
              "\n",
              "    .colab-df-convert {\n",
              "      background-color: #E8F0FE;\n",
              "      border: none;\n",
              "      border-radius: 50%;\n",
              "      cursor: pointer;\n",
              "      display: none;\n",
              "      fill: #1967D2;\n",
              "      height: 32px;\n",
              "      padding: 0 0 0 0;\n",
              "      width: 32px;\n",
              "    }\n",
              "\n",
              "    .colab-df-convert:hover {\n",
              "      background-color: #E2EBFA;\n",
              "      box-shadow: 0px 1px 2px rgba(60, 64, 67, 0.3), 0px 1px 3px 1px rgba(60, 64, 67, 0.15);\n",
              "      fill: #174EA6;\n",
              "    }\n",
              "\n",
              "    .colab-df-buttons div {\n",
              "      margin-bottom: 4px;\n",
              "    }\n",
              "\n",
              "    [theme=dark] .colab-df-convert {\n",
              "      background-color: #3B4455;\n",
              "      fill: #D2E3FC;\n",
              "    }\n",
              "\n",
              "    [theme=dark] .colab-df-convert:hover {\n",
              "      background-color: #434B5C;\n",
              "      box-shadow: 0px 1px 3px 1px rgba(0, 0, 0, 0.15);\n",
              "      filter: drop-shadow(0px 1px 2px rgba(0, 0, 0, 0.3));\n",
              "      fill: #FFFFFF;\n",
              "    }\n",
              "  </style>\n",
              "\n",
              "    <script>\n",
              "      const buttonEl =\n",
              "        document.querySelector('#df-e2e24bc4-4265-4538-a434-cb81cf698210 button.colab-df-convert');\n",
              "      buttonEl.style.display =\n",
              "        google.colab.kernel.accessAllowed ? 'block' : 'none';\n",
              "\n",
              "      async function convertToInteractive(key) {\n",
              "        const element = document.querySelector('#df-e2e24bc4-4265-4538-a434-cb81cf698210');\n",
              "        const dataTable =\n",
              "          await google.colab.kernel.invokeFunction('convertToInteractive',\n",
              "                                                    [key], {});\n",
              "        if (!dataTable) return;\n",
              "\n",
              "        const docLinkHtml = 'Like what you see? Visit the ' +\n",
              "          '<a target=\"_blank\" href=https://colab.research.google.com/notebooks/data_table.ipynb>data table notebook</a>'\n",
              "          + ' to learn more about interactive tables.';\n",
              "        element.innerHTML = '';\n",
              "        dataTable['output_type'] = 'display_data';\n",
              "        await google.colab.output.renderOutput(dataTable, element);\n",
              "        const docLink = document.createElement('div');\n",
              "        docLink.innerHTML = docLinkHtml;\n",
              "        element.appendChild(docLink);\n",
              "      }\n",
              "    </script>\n",
              "  </div>\n",
              "\n",
              "\n",
              "<div id=\"df-dadfedf4-196a-4602-9e5e-58f1a8c7c225\">\n",
              "  <button class=\"colab-df-quickchart\" onclick=\"quickchart('df-dadfedf4-196a-4602-9e5e-58f1a8c7c225')\"\n",
              "            title=\"Suggest charts\"\n",
              "            style=\"display:none;\">\n",
              "\n",
              "<svg xmlns=\"http://www.w3.org/2000/svg\" height=\"24px\"viewBox=\"0 0 24 24\"\n",
              "     width=\"24px\">\n",
              "    <g>\n",
              "        <path d=\"M19 3H5c-1.1 0-2 .9-2 2v14c0 1.1.9 2 2 2h14c1.1 0 2-.9 2-2V5c0-1.1-.9-2-2-2zM9 17H7v-7h2v7zm4 0h-2V7h2v10zm4 0h-2v-4h2v4z\"/>\n",
              "    </g>\n",
              "</svg>\n",
              "  </button>\n",
              "\n",
              "<style>\n",
              "  .colab-df-quickchart {\n",
              "      --bg-color: #E8F0FE;\n",
              "      --fill-color: #1967D2;\n",
              "      --hover-bg-color: #E2EBFA;\n",
              "      --hover-fill-color: #174EA6;\n",
              "      --disabled-fill-color: #AAA;\n",
              "      --disabled-bg-color: #DDD;\n",
              "  }\n",
              "\n",
              "  [theme=dark] .colab-df-quickchart {\n",
              "      --bg-color: #3B4455;\n",
              "      --fill-color: #D2E3FC;\n",
              "      --hover-bg-color: #434B5C;\n",
              "      --hover-fill-color: #FFFFFF;\n",
              "      --disabled-bg-color: #3B4455;\n",
              "      --disabled-fill-color: #666;\n",
              "  }\n",
              "\n",
              "  .colab-df-quickchart {\n",
              "    background-color: var(--bg-color);\n",
              "    border: none;\n",
              "    border-radius: 50%;\n",
              "    cursor: pointer;\n",
              "    display: none;\n",
              "    fill: var(--fill-color);\n",
              "    height: 32px;\n",
              "    padding: 0;\n",
              "    width: 32px;\n",
              "  }\n",
              "\n",
              "  .colab-df-quickchart:hover {\n",
              "    background-color: var(--hover-bg-color);\n",
              "    box-shadow: 0 1px 2px rgba(60, 64, 67, 0.3), 0 1px 3px 1px rgba(60, 64, 67, 0.15);\n",
              "    fill: var(--button-hover-fill-color);\n",
              "  }\n",
              "\n",
              "  .colab-df-quickchart-complete:disabled,\n",
              "  .colab-df-quickchart-complete:disabled:hover {\n",
              "    background-color: var(--disabled-bg-color);\n",
              "    fill: var(--disabled-fill-color);\n",
              "    box-shadow: none;\n",
              "  }\n",
              "\n",
              "  .colab-df-spinner {\n",
              "    border: 2px solid var(--fill-color);\n",
              "    border-color: transparent;\n",
              "    border-bottom-color: var(--fill-color);\n",
              "    animation:\n",
              "      spin 1s steps(1) infinite;\n",
              "  }\n",
              "\n",
              "  @keyframes spin {\n",
              "    0% {\n",
              "      border-color: transparent;\n",
              "      border-bottom-color: var(--fill-color);\n",
              "      border-left-color: var(--fill-color);\n",
              "    }\n",
              "    20% {\n",
              "      border-color: transparent;\n",
              "      border-left-color: var(--fill-color);\n",
              "      border-top-color: var(--fill-color);\n",
              "    }\n",
              "    30% {\n",
              "      border-color: transparent;\n",
              "      border-left-color: var(--fill-color);\n",
              "      border-top-color: var(--fill-color);\n",
              "      border-right-color: var(--fill-color);\n",
              "    }\n",
              "    40% {\n",
              "      border-color: transparent;\n",
              "      border-right-color: var(--fill-color);\n",
              "      border-top-color: var(--fill-color);\n",
              "    }\n",
              "    60% {\n",
              "      border-color: transparent;\n",
              "      border-right-color: var(--fill-color);\n",
              "    }\n",
              "    80% {\n",
              "      border-color: transparent;\n",
              "      border-right-color: var(--fill-color);\n",
              "      border-bottom-color: var(--fill-color);\n",
              "    }\n",
              "    90% {\n",
              "      border-color: transparent;\n",
              "      border-bottom-color: var(--fill-color);\n",
              "    }\n",
              "  }\n",
              "</style>\n",
              "\n",
              "  <script>\n",
              "    async function quickchart(key) {\n",
              "      const quickchartButtonEl =\n",
              "        document.querySelector('#' + key + ' button');\n",
              "      quickchartButtonEl.disabled = true;  // To prevent multiple clicks.\n",
              "      quickchartButtonEl.classList.add('colab-df-spinner');\n",
              "      try {\n",
              "        const charts = await google.colab.kernel.invokeFunction(\n",
              "            'suggestCharts', [key], {});\n",
              "      } catch (error) {\n",
              "        console.error('Error during call to suggestCharts:', error);\n",
              "      }\n",
              "      quickchartButtonEl.classList.remove('colab-df-spinner');\n",
              "      quickchartButtonEl.classList.add('colab-df-quickchart-complete');\n",
              "    }\n",
              "    (() => {\n",
              "      let quickchartButtonEl =\n",
              "        document.querySelector('#df-dadfedf4-196a-4602-9e5e-58f1a8c7c225 button');\n",
              "      quickchartButtonEl.style.display =\n",
              "        google.colab.kernel.accessAllowed ? 'block' : 'none';\n",
              "    })();\n",
              "  </script>\n",
              "</div>\n",
              "\n",
              "    </div>\n",
              "  </div>\n"
            ],
            "application/vnd.google.colaboratory.intrinsic+json": {
              "type": "dataframe",
              "variable_name": "abridged_data",
              "summary": "{\n  \"name\": \"abridged_data\",\n  \"rows\": 2021,\n  \"fields\": [\n    {\n      \"column\": \"Title\",\n      \"properties\": {\n        \"dtype\": \"category\",\n        \"num_unique_values\": 279,\n        \"samples\": [\n          \"Birdman of Alcatraz\",\n          \"Metro\",\n          \"Love & Taxes\"\n        ],\n        \"semantic_type\": \"\",\n        \"description\": \"\"\n      }\n    },\n    {\n      \"column\": \"Release Year\",\n      \"properties\": {\n        \"dtype\": \"number\",\n        \"std\": 19,\n        \"min\": 1915,\n        \"max\": 2023,\n        \"num_unique_values\": 76,\n        \"samples\": [\n          1938,\n          1982,\n          1951\n        ],\n        \"semantic_type\": \"\",\n        \"description\": \"\"\n      }\n    },\n    {\n      \"column\": \"Locations\",\n      \"properties\": {\n        \"dtype\": \"string\",\n        \"num_unique_values\": 1628,\n        \"samples\": [\n          \"435 Broadway\",\n          \"Lombard St between Leavenworth and Hyde St\",\n          \"Pennsylvania at 23rd St\"\n        ],\n        \"semantic_type\": \"\",\n        \"description\": \"\"\n      }\n    },\n    {\n      \"column\": \"Director\",\n      \"properties\": {\n        \"dtype\": \"category\",\n        \"num_unique_values\": 233,\n        \"samples\": [\n          \"Phillip R. Ford\",\n          \"Jeff Fowler\",\n          \"Rafael Casal, Jess Wu Calder,\"\n        ],\n        \"semantic_type\": \"\",\n        \"description\": \"\"\n      }\n    },\n    {\n      \"column\": \"Actor 1\",\n      \"properties\": {\n        \"dtype\": \"category\",\n        \"num_unique_values\": 213,\n        \"samples\": [\n          \"Ann Sheridan\",\n          \"Sonoya Mizuno\",\n          \"Tigr\"\n        ],\n        \"semantic_type\": \"\",\n        \"description\": \"\"\n      }\n    }\n  ]\n}"
            }
          },
          "metadata": {},
          "execution_count": 37
        }
      ]
    },
    {
      "cell_type": "markdown",
      "source": [
        "The abridged dataset has 279 unique titles"
      ],
      "metadata": {
        "id": "kYrgoB9Sd6w8"
      }
    },
    {
      "cell_type": "code",
      "source": [
        "abridged_data.describe(include='all').loc['unique']"
      ],
      "metadata": {
        "colab": {
          "base_uri": "https://localhost:8080/"
        },
        "id": "LlEKrBoqjfXT",
        "outputId": "d98576c4-5618-4c9d-9371-0250f781c80c"
      },
      "execution_count": null,
      "outputs": [
        {
          "output_type": "execute_result",
          "data": {
            "text/plain": [
              "Title            279\n",
              "Release Year     NaN\n",
              "Locations       1628\n",
              "Director         233\n",
              "Actor 1          213\n",
              "Name: unique, dtype: object"
            ]
          },
          "metadata": {},
          "execution_count": 38
        }
      ]
    },
    {
      "cell_type": "markdown",
      "source": [
        "Let's re-set index then\n",
        "\n",
        "Store this 279 titles to file ..."
      ],
      "metadata": {
        "id": "SIxYqo0mj5qZ"
      }
    },
    {
      "cell_type": "code",
      "source": [
        "abridged_data.reset_index(inplace=True, drop=True)"
      ],
      "metadata": {
        "id": "nfSzudIrkUoX"
      },
      "execution_count": null,
      "outputs": []
    },
    {
      "cell_type": "code",
      "source": [
        "abridged_data.to_csv('abridged_april_17_279_Titles.csv')"
      ],
      "metadata": {
        "id": "Km5Cw1nBjq3g"
      },
      "execution_count": null,
      "outputs": []
    },
    {
      "cell_type": "code",
      "source": [
        "slice = abridged_data.loc[:100]\n",
        "slice.to_csv('slice_abridged_april_17_279_Titles.csv')"
      ],
      "metadata": {
        "id": "6LJZEcwnd6Ve"
      },
      "execution_count": null,
      "outputs": []
    }
  ]
}